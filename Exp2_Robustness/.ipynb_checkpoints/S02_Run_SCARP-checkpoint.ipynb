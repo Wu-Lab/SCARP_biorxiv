{
 "cells": [
  {
   "cell_type": "markdown",
   "id": "8de0b666",
   "metadata": {},
   "source": [
    "## Test the robustness of SCARP"
   ]
  },
  {
   "cell_type": "code",
   "execution_count": 1,
   "id": "bd5ea036",
   "metadata": {
    "ExecuteTime": {
     "end_time": "2022-09-03T07:22:44.532195Z",
     "start_time": "2022-09-03T07:22:41.308258Z"
    }
   },
   "outputs": [],
   "source": [
    "import sys\n",
    "sys.path.append('../Scarp/')\n",
    "from downstream import *\n",
    "import warnings\n",
    "warnings.filterwarnings(\"ignore\")"
   ]
  },
  {
   "cell_type": "code",
   "execution_count": 2,
   "id": "4609af97",
   "metadata": {
    "ExecuteTime": {
     "end_time": "2022-09-03T07:22:45.686174Z",
     "start_time": "2022-09-03T07:22:45.681171Z"
    }
   },
   "outputs": [],
   "source": [
    "np.random.seed(1)\n",
    "\n",
    "random_state = 1\n",
    "m = 1.5\n",
    "merge_thre = 3000\n",
    "beta = 5000"
   ]
  },
  {
   "cell_type": "code",
   "execution_count": 3,
   "id": "f06d3323",
   "metadata": {
    "ExecuteTime": {
     "end_time": "2022-09-03T07:22:49.085253Z",
     "start_time": "2022-09-03T07:22:49.082250Z"
    }
   },
   "outputs": [],
   "source": [
    "# data_type = 'blood2k'\n",
    "# Data_name = ['blood2K_filter30', 'blood2K_filter40',\n",
    "#              'blood2K_filter50', 'blood2K_filter60',\n",
    "#              'blood2K_filter70', 'blood2K_filter_var0.5',\n",
    "#              'blood2K_filter_var0.6', 'blood2K_filter_var0.7',\n",
    "#              'blood2K_filter_var0.8', 'blood2K_filter_var0.9']"
   ]
  },
  {
   "cell_type": "code",
   "execution_count": 4,
   "id": "c92a1023",
   "metadata": {
    "ExecuteTime": {
     "end_time": "2022-09-03T07:22:51.101057Z",
     "start_time": "2022-09-03T07:22:51.097057Z"
    }
   },
   "outputs": [],
   "source": [
    "data_type = 'Sox10KD'\n",
    "Data_name = ['Sox10KD_filter10', 'Sox10KD_filter20',\n",
    "             'Sox10KD_filter30', 'Sox10KD_filter40',\n",
    "             'Sox10KD_filter50', 'Sox10KD_filter_var0.5',\n",
    "             'Sox10KD_filter_var0.6', 'Sox10KD_filter_var0.7',\n",
    "             'Sox10KD_filter_var0.8', 'Sox10KD_filter_var0.9']"
   ]
  },
  {
   "cell_type": "code",
   "execution_count": 5,
   "id": "eade297d",
   "metadata": {
    "ExecuteTime": {
     "end_time": "2022-09-03T07:22:52.531075Z",
     "start_time": "2022-09-03T07:22:52.523075Z"
    }
   },
   "outputs": [],
   "source": [
    "louvain_ARI_score = pd.DataFrame(index=Data_name, columns=['score'])\n",
    "louvain_NMI_score = pd.DataFrame(index=Data_name, columns=['score'])\n",
    "\n",
    "running_time = np.zeros(len(Data_name))\n",
    "Peaks_number = np.zeros(len(Data_name))\n",
    "Kept_component = np.zeros(len(Data_name))"
   ]
  },
  {
   "cell_type": "code",
   "execution_count": 6,
   "id": "e8ad8085",
   "metadata": {
    "ExecuteTime": {
     "end_time": "2022-09-03T07:32:35.219730Z",
     "start_time": "2022-09-03T07:22:53.821023Z"
    },
    "scrolled": false
   },
   "outputs": [
    {
     "name": "stdout",
     "output_type": "stream",
     "text": [
      "\n",
      "++++++++++++++++++++ Sox10KD_filter10 ++++++++++++++++++++++++\n",
      "Number of Peaks: 54095\n",
      "Number of Cells: 598\n",
      "Number of labels:  8\n",
      "\n",
      "%%%%%%%%%%%%%%%%%%%%%%% Diffusion Started (with 23 cores parallel computing)%%%%%%%%%%%%%%%%%%%%%%%\n",
      "%%%%%%%%%%%%%%%%%%%%%%%%%%% Diffusion Finished %%%%%%%%%%%%%%%%%%%%%%%%%%%%%\n",
      "\n",
      "Running time: 67.07798552513123s\n",
      "\n",
      "Matrix Splicing...........\n",
      "Splicing time: 2.0010244846343994s\n",
      "\n",
      "++++++++++++++++++++ Sox10KD_filter20 ++++++++++++++++++++++++\n",
      "Number of Peaks: 36083\n",
      "Number of Cells: 598\n",
      "Number of labels:  8\n",
      "\n",
      "%%%%%%%%%%%%%%%%%%%%%%%% Diffusion Started (without parallel computing)%%%%%%%%%%%%%%%%%%%%%%%%%%\n",
      "       ====================== Chr1: 4176 Peaks ========================\n",
      "       ====================== Chr2~3: 5569 Peaks ========================\n",
      "       ====================== Chr4~5: 3549 Peaks ========================\n",
      "       ====================== Chr6~7: 4080 Peaks ========================\n",
      "       ====================== Chr8~10: 3994 Peaks ========================\n",
      "       ====================== Chr11~13: 4431 Peaks ========================\n",
      "       ====================== Chr14~16: 3667 Peaks ========================\n",
      "       ====================== Chr17~19: 3458 Peaks ========================\n",
      "       ====================== Chr20~24: 3159 Peaks ========================\n",
      "%%%%%%%%%%%%%%%%%%%%%%%%%%% Diffusion Finished %%%%%%%%%%%%%%%%%%%%%%%%%%%%%\n",
      "\n",
      "Running time: 51.58114218711853s\n",
      "\n",
      "Matrix Splicing...........\n",
      "Splicing time: 1.3480160236358643s\n",
      "\n",
      "++++++++++++++++++++ Sox10KD_filter30 ++++++++++++++++++++++++\n",
      "Number of Peaks: 24948\n",
      "Number of Cells: 598\n",
      "Number of labels:  8\n",
      "\n",
      "%%%%%%%%%%%%%%%%%%%%%%%% Diffusion Started (without parallel computing)%%%%%%%%%%%%%%%%%%%%%%%%%%\n",
      "       ====================== Chr1: 3034 Peaks ========================\n",
      "       ====================== Chr2~3: 3876 Peaks ========================\n",
      "       ====================== Chr4~6: 3968 Peaks ========================\n",
      "       ====================== Chr7~10: 3795 Peaks ========================\n",
      "       ====================== Chr11~14: 3810 Peaks ========================\n",
      "       ====================== Chr15~18: 3305 Peaks ========================\n",
      "       ====================== Chr19~24: 3160 Peaks ========================\n",
      "%%%%%%%%%%%%%%%%%%%%%%%%%%% Diffusion Finished %%%%%%%%%%%%%%%%%%%%%%%%%%%%%\n",
      "\n",
      "Running time: 29.620461225509644s\n",
      "\n",
      "Matrix Splicing...........\n",
      "Splicing time: 0.9460110664367676s\n",
      "\n",
      "++++++++++++++++++++ Sox10KD_filter40 ++++++++++++++++++++++++\n",
      "Number of Peaks: 17706\n",
      "Number of Cells: 598\n",
      "Number of labels:  8\n",
      "\n",
      "%%%%%%%%%%%%%%%%%%%%%%%% Diffusion Started (without parallel computing)%%%%%%%%%%%%%%%%%%%%%%%%%%\n",
      "       ====================== Chr1~2: 3660 Peaks ========================\n",
      "       ====================== Chr3~6: 4097 Peaks ========================\n",
      "       ====================== Chr7~11: 3406 Peaks ========================\n",
      "       ====================== Chr12~16: 3180 Peaks ========================\n",
      "       ====================== Chr17~24: 3363 Peaks ========================\n",
      "%%%%%%%%%%%%%%%%%%%%%%%%%%% Diffusion Finished %%%%%%%%%%%%%%%%%%%%%%%%%%%%%\n",
      "\n",
      "Running time: 20.94294500350952s\n",
      "\n",
      "Matrix Splicing...........\n",
      "Splicing time: 0.6800079345703125s\n",
      "\n",
      "++++++++++++++++++++ Sox10KD_filter50 ++++++++++++++++++++++++\n",
      "Number of Peaks: 12902\n",
      "Number of Cells: 598\n",
      "Number of labels:  8\n",
      "\n",
      "%%%%%%%%%%%%%%%%%%%%%%%% Diffusion Started (without parallel computing)%%%%%%%%%%%%%%%%%%%%%%%%%%\n",
      "       ====================== Chr1~2: 2733 Peaks ========================\n",
      "       ====================== Chr3~7: 3564 Peaks ========================\n",
      "       ====================== Chr8~14: 3142 Peaks ========================\n",
      "       ====================== Chr15~24: 3463 Peaks ========================\n",
      "%%%%%%%%%%%%%%%%%%%%%%%%%%% Diffusion Finished %%%%%%%%%%%%%%%%%%%%%%%%%%%%%\n",
      "\n",
      "Running time: 13.95598578453064s\n",
      "\n",
      "Matrix Splicing...........\n",
      "Splicing time: 0.5015614032745361s\n",
      "Cannot find the number of clusters\n",
      "Clustering solution from last iteration is used:10 at resolution 0.5823854163618867\n",
      "Wrong for Leiden! \n",
      "\n",
      "++++++++++++++++++++ Sox10KD_filter_var0.5 ++++++++++++++++++++++++\n",
      "Number of Peaks: 39330\n",
      "Number of Cells: 598\n",
      "Number of labels:  8\n",
      "\n",
      "%%%%%%%%%%%%%%%%%%%%%%%% Diffusion Started (without parallel computing)%%%%%%%%%%%%%%%%%%%%%%%%%%\n",
      "       ====================== Chr1: 4043 Peaks ========================\n",
      "       ====================== Chr2~3: 6163 Peaks ========================\n",
      "       ====================== Chr4~5: 4266 Peaks ========================\n",
      "       ====================== Chr6~7: 4436 Peaks ========================\n",
      "       ====================== Chr8~9: 3227 Peaks ========================\n",
      "       ====================== Chr10~11: 3427 Peaks ========================\n",
      "       ====================== Chr12~13: 3189 Peaks ========================\n",
      "       ====================== Chr14~16: 3741 Peaks ========================\n",
      "       ====================== Chr17~19: 3416 Peaks ========================\n",
      "       ====================== Chr20~24: 3422 Peaks ========================\n",
      "%%%%%%%%%%%%%%%%%%%%%%%%%%% Diffusion Finished %%%%%%%%%%%%%%%%%%%%%%%%%%%%%\n",
      "\n",
      "Running time: 56.9098436832428s\n",
      "\n",
      "Matrix Splicing...........\n",
      "Splicing time: 1.4650168418884277s\n",
      "\n",
      "++++++++++++++++++++ Sox10KD_filter_var0.6 ++++++++++++++++++++++++\n",
      "Number of Peaks: 31464\n",
      "Number of Cells: 598\n",
      "Number of labels:  8\n",
      "\n",
      "%%%%%%%%%%%%%%%%%%%%%%%% Diffusion Started (without parallel computing)%%%%%%%%%%%%%%%%%%%%%%%%%%\n",
      "       ====================== Chr1: 3237 Peaks ========================\n",
      "       ====================== Chr2~3: 4939 Peaks ========================\n",
      "       ====================== Chr4~5: 3433 Peaks ========================\n",
      "       ====================== Chr6~8: 4958 Peaks ========================\n",
      "       ====================== Chr9~11: 3839 Peaks ========================\n",
      "       ====================== Chr12~14: 3600 Peaks ========================\n",
      "       ====================== Chr15~18: 3921 Peaks ========================\n",
      "       ====================== Chr19~24: 3537 Peaks ========================\n",
      "%%%%%%%%%%%%%%%%%%%%%%%%%%% Diffusion Finished %%%%%%%%%%%%%%%%%%%%%%%%%%%%%\n",
      "\n",
      "Running time: 43.93286943435669s\n",
      "\n",
      "Matrix Splicing...........\n",
      "Splicing time: 1.18208909034729s\n",
      "\n",
      "++++++++++++++++++++ Sox10KD_filter_var0.7 ++++++++++++++++++++++++\n",
      "Number of Peaks: 23598\n",
      "Number of Cells: 598\n",
      "Number of labels:  8\n",
      "\n",
      "%%%%%%%%%%%%%%%%%%%%%%%% Diffusion Started (without parallel computing)%%%%%%%%%%%%%%%%%%%%%%%%%%\n",
      "       ====================== Chr1: 2392 Peaks ========================\n",
      "       ====================== Chr2~3: 3691 Peaks ========================\n",
      "       ====================== Chr4~6: 4113 Peaks ========================\n",
      "       ====================== Chr7~10: 4033 Peaks ========================\n",
      "       ====================== Chr11~13: 3017 Peaks ========================\n",
      "       ====================== Chr14~17: 3094 Peaks ========================\n",
      "       ====================== Chr18~24: 3258 Peaks ========================\n",
      "%%%%%%%%%%%%%%%%%%%%%%%%%%% Diffusion Finished %%%%%%%%%%%%%%%%%%%%%%%%%%%%%\n",
      "\n",
      "Running time: 27.069245100021362s\n",
      "\n",
      "Matrix Splicing...........\n",
      "Splicing time: 0.9015583992004395s\n",
      "\n",
      "++++++++++++++++++++ Sox10KD_filter_var0.8 ++++++++++++++++++++++++\n",
      "Number of Peaks: 15732\n",
      "Number of Cells: 598\n",
      "Number of labels:  8\n",
      "\n",
      "%%%%%%%%%%%%%%%%%%%%%%%% Diffusion Started (without parallel computing)%%%%%%%%%%%%%%%%%%%%%%%%%%\n",
      "       ====================== Chr1: 1577 Peaks ========================\n",
      "       ====================== Chr2~5: 4166 Peaks ========================\n",
      "       ====================== Chr6~9: 3076 Peaks ========================\n",
      "       ====================== Chr10~15: 3625 Peaks ========================\n",
      "       ====================== Chr16~24: 3288 Peaks ========================\n",
      "%%%%%%%%%%%%%%%%%%%%%%%%%%% Diffusion Finished %%%%%%%%%%%%%%%%%%%%%%%%%%%%%\n",
      "\n",
      "Running time: 17.882171869277954s\n",
      "\n",
      "Matrix Splicing...........\n",
      "Splicing time: 0.6155679225921631s\n",
      "\n",
      "++++++++++++++++++++ Sox10KD_filter_var0.9 ++++++++++++++++++++++++\n",
      "Number of Peaks: 7866\n",
      "Number of Cells: 598\n",
      "Number of labels:  8\n",
      "\n",
      "%%%%%%%%%%%%%%%%%%%%%%%% Diffusion Started (without parallel computing)%%%%%%%%%%%%%%%%%%%%%%%%%%\n",
      "       ====================== Chr1~2: 1408 Peaks ========================\n"
     ]
    },
    {
     "name": "stdout",
     "output_type": "stream",
     "text": [
      "       ====================== Chr3~10: 3326 Peaks ========================\n",
      "       ====================== Chr11~24: 3132 Peaks ========================\n",
      "%%%%%%%%%%%%%%%%%%%%%%%%%%% Diffusion Finished %%%%%%%%%%%%%%%%%%%%%%%%%%%%%\n",
      "\n",
      "Running time: 7.7177979946136475s\n",
      "\n",
      "Matrix Splicing...........\n",
      "Splicing time: 0.31600284576416016s\n"
     ]
    }
   ],
   "source": [
    "for d in range(len(Data_name)):\n",
    "    data_name = Data_name[d]\n",
    "    print('\\n++++++++++++++++++++ %s ++++++++++++++++++++++++' % data_name)\n",
    "\n",
    "    # ===========================================================================================\n",
    "    data = sc.read_h5ad('./Processed data/' + data_name + '.h5ad')\n",
    "\n",
    "    Cells = data.obs.index\n",
    "    Cells_num, Peaks_num = data.X.shape\n",
    "    N = Cells_num + Peaks_num\n",
    "    labels = data.obs['celltype'].astype('category')\n",
    "    cluster_num = np.unique(labels).shape[0]\n",
    "    print('Number of Peaks:', Peaks_num)\n",
    "    print('Number of Cells:', Cells_num)\n",
    "    print('Number of labels: ', cluster_num)\n",
    "    Peaks_number[d] = Peaks_num\n",
    "\n",
    "    # ===========================================================================================\n",
    "    t, diffusion_mat = SCARP(data=data,\n",
    "                             m=m,\n",
    "                             merge_thre=merge_thre,\n",
    "                             beta=beta,\n",
    "                             peak_loc=True)\n",
    "    running_time[d] = t\n",
    "\n",
    "    if Peaks_num > 50000:\n",
    "        k = std_plot(data=diffusion_mat,\n",
    "                     title=data_name,\n",
    "                     max_k=100,\n",
    "                     plot_std=False)\n",
    "    else:\n",
    "        k = std_plot(data=diffusion_mat,\n",
    "                     title=data_name,\n",
    "                     max_k=50,\n",
    "                     plot_std=False)\n",
    "\n",
    "    Kept_component[d] = k\n",
    "\n",
    "    SCARP_score = compute_score(data_name=data_name,\n",
    "                                diffusion_mat=diffusion_mat,\n",
    "                                cluster_num=cluster_num,\n",
    "                                labels=labels,\n",
    "                                Cells=Cells,\n",
    "                                kept_comp=k,\n",
    "                                random_state=1\n",
    "                                )\n",
    "\n",
    "    louvain_ARI_score['score'][data_name] = SCARP_score['ARI']['louvain']\n",
    "    louvain_NMI_score['score'][data_name] = SCARP_score['NMI']['louvain']"
   ]
  },
  {
   "cell_type": "markdown",
   "id": "8208c023",
   "metadata": {},
   "source": [
    "## plot"
   ]
  },
  {
   "cell_type": "code",
   "execution_count": 7,
   "id": "1c15ebe9",
   "metadata": {
    "ExecuteTime": {
     "end_time": "2022-09-03T07:32:35.315731Z",
     "start_time": "2022-09-03T07:32:35.305731Z"
    }
   },
   "outputs": [],
   "source": [
    "louvain_ARI_score = louvain_ARI_score.astype('float')\n",
    "louvain_NMI_score = louvain_NMI_score.astype('float')\n",
    "running_time = running_time.astype('float')\n",
    "Peaks_number = Peaks_number.astype('float')\n",
    "\n",
    "louvain_ARI_score.to_csv('./Results/'+data_type+'_louvain_ARI_score.txt', sep='\\t')\n",
    "louvain_NMI_score.to_csv('./Results/'+data_type+'_louvain_NMI_score.txt', sep='\\t')"
   ]
  },
  {
   "cell_type": "code",
   "execution_count": 8,
   "id": "80cb4a8c",
   "metadata": {
    "ExecuteTime": {
     "end_time": "2022-09-03T07:32:35.410734Z",
     "start_time": "2022-09-03T07:32:35.401732Z"
    }
   },
   "outputs": [],
   "source": [
    "if data_type == 'blood2k':\n",
    "    x = ['30', '40', '50', '60', '70', '', '0.5', '0.6', '0.7', '0.8', '0.9']\n",
    "elif data_type == 'Sox10KD':\n",
    "    x = ['10', '20', '30', '40', '50', '', '0.5', '0.6', '0.7', '0.8', '0.9']\n",
    "\n",
    "y_louvain_ARI = np.append(np.append(np.array(louvain_ARI_score['score'][0:5]), 0),\n",
    "                          np.array(louvain_ARI_score['score'][5:]))\n",
    "y_louvain_NMI = np.append(np.append(np.array(louvain_NMI_score['score'][0:5]), 0),\n",
    "                          np.array(louvain_NMI_score['score'][5:]))\n",
    "running_time1 = np.append(np.append(np.array(running_time[0:5]), 0),\n",
    "                          np.array(running_time[5:]))\n",
    "Peaks_number1 = np.append(np.append(np.array(Peaks_number[0:5]), 0),\n",
    "                          np.array(Peaks_number[5:]))"
   ]
  },
  {
   "cell_type": "code",
   "execution_count": 9,
   "id": "1a639eb3",
   "metadata": {
    "ExecuteTime": {
     "end_time": "2022-09-03T07:32:36.075740Z",
     "start_time": "2022-09-03T07:32:35.499733Z"
    }
   },
   "outputs": [
    {
     "data": {
      "image/png": "[encoded data removed]",
      "text/plain": [
       "<Figure size 432x252 with 1 Axes>"
      ]
     },
     "metadata": {
      "needs_background": "light"
     },
     "output_type": "display_data"
    }
   ],
   "source": [
    "sns.set_style(\"whitegrid\")\n",
    "plt.figure(figsize=(6, 3.5))\n",
    "plt.bar(x=x, height=y_louvain_ARI,\n",
    "        label='louvain_ARI',\n",
    "        color=sns.cubehelix_palette(8, start=.5, rot=-.75)[3])\n",
    "plt.bar(x=x, height=y_louvain_NMI,\n",
    "        bottom=y_louvain_ARI,\n",
    "        label='louvain_NMI',\n",
    "        color=sns.cubehelix_palette(8, start=.5, rot=-.75)[5])\n",
    "plt.legend(bbox_to_anchor=(0.35, 1.01), loc=0, borderaxespad=0)\n",
    "plt.ylabel('score')\n",
    "plt.subplots_adjust(right=0.77)\n",
    "plt.savefig('./Results/' + data_type + '_Score.svg', bbox_inches='tight')\n",
    "plt.show()"
   ]
  },
  {
   "cell_type": "code",
   "execution_count": 10,
   "id": "ffa737f0",
   "metadata": {
    "ExecuteTime": {
     "end_time": "2022-09-03T07:32:36.700747Z",
     "start_time": "2022-09-03T07:32:36.162741Z"
    }
   },
   "outputs": [
    {
     "data": {
      "image/png": "[encoded data removed]",
      "text/plain": [
       "<Figure size 396x180 with 1 Axes>"
      ]
     },
     "metadata": {
      "needs_background": "light"
     },
     "output_type": "display_data"
    }
   ],
   "source": [
    "if data_type == 'blood2k':\n",
    "    s = 2*running_time1\n",
    "    y_lim = 500\n",
    "elif data_type == 'Sox10KD':\n",
    "    s = 6*running_time1\n",
    "    y_lim = 100\n",
    "\n",
    "fig1, ax = plt.subplots(figsize=(5.5, 2.5))\n",
    "sns.scatterplot(x=x, y=running_time1,\n",
    "                palette='rocket', s=s,\n",
    "                hue=running_time1, ax=ax)\n",
    "plt.ylabel('Running time (s)')\n",
    "plt.ylim([0, y_lim])\n",
    "ax.get_legend().set_visible(False)\n",
    "plt.savefig('./Results/' + data_type + '_time.svg', bbox_inches='tight')\n",
    "plt.show()"
   ]
  },
  {
   "cell_type": "code",
   "execution_count": 11,
   "id": "129bdc33",
   "metadata": {
    "ExecuteTime": {
     "end_time": "2022-09-03T07:32:37.355754Z",
     "start_time": "2022-09-03T07:32:36.788748Z"
    }
   },
   "outputs": [
    {
     "data": {
      "image/png": "[encoded data removed]",
      "text/plain": [
       "<Figure size 396x180 with 1 Axes>"
      ]
     },
     "metadata": {
      "needs_background": "light"
     },
     "output_type": "display_data"
    }
   ],
   "source": [
    "if data_type == 'blood2k':\n",
    "    y_lim = 120000\n",
    "elif data_type == 'Sox10KD':\n",
    "    y_lim = 60000\n",
    "    \n",
    "fig2, ax = plt.subplots(figsize=(5.5, 2.5))\n",
    "sns.scatterplot(x=x, y=Peaks_number1,\n",
    "                palette='rocket', s=0.9*Peaks_number1/100,\n",
    "                hue=Peaks_number1, ax=ax)\n",
    "plt.ylabel('Peaks number')\n",
    "plt.ylim([0, y_lim])\n",
    "plt.subplots_adjust(left=0.15)\n",
    "ax.get_legend().set_visible(False)\n",
    "plt.savefig('./Results/' + data_type + '_peaksnum.svg', bbox_inches='tight')\n",
    "plt.show()"
   ]
  }
 ],
 "metadata": {
  "kernelspec": {
   "display_name": "scarp1",
   "language": "python",
   "name": "scarp1"
  },
  "language_info": {
   "codemirror_mode": {
    "name": "ipython",
    "version": 3
   },
   "file_extension": ".py",
   "mimetype": "text/x-python",
   "name": "python",
   "nbconvert_exporter": "python",
   "pygments_lexer": "ipython3",
   "version": "3.8.13"
  },
  "toc": {
   "base_numbering": 1,
   "nav_menu": {},
   "number_sections": true,
   "sideBar": true,
   "skip_h1_title": false,
   "title_cell": "Table of Contents",
   "title_sidebar": "Contents",
   "toc_cell": false,
   "toc_position": {},
   "toc_section_display": true,
   "toc_window_display": false
  },
  "varInspector": {
   "cols": {
    "lenName": 16,
    "lenType": 16,
    "lenVar": 40
   },
   "kernels_config": {
    "python": {
     "delete_cmd_postfix": "",
     "delete_cmd_prefix": "del ",
     "library": "var_list.py",
     "varRefreshCmd": "print(var_dic_list())"
    },
    "r": {
     "delete_cmd_postfix": ") ",
     "delete_cmd_prefix": "rm(",
     "library": "var_list.r",
     "varRefreshCmd": "cat(var_dic_list()) "
    }
   },
   "types_to_exclude": [
    "module",
    "function",
    "builtin_function_or_method",
    "instance",
    "_Feature"
   ],
   "window_display": false
  }
 },
 "nbformat": 4,
 "nbformat_minor": 5
}
