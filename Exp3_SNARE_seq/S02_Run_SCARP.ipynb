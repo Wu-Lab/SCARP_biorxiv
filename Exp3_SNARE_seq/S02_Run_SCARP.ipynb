{
 "cells": [
  {
   "cell_type": "code",
   "execution_count": 1,
   "id": "3291f7ab",
   "metadata": {
    "ExecuteTime": {
     "end_time": "2022-09-03T08:13:58.236431Z",
     "start_time": "2022-09-03T08:13:54.880817Z"
    }
   },
   "outputs": [],
   "source": [
    "import sys\n",
    "sys.path.append('../Scarp/')\n",
    "\n",
    "from downstream import *\n",
    "import warnings\n",
    "warnings.filterwarnings(\"ignore\")"
   ]
  },
  {
   "cell_type": "markdown",
   "id": "d07a0da3",
   "metadata": {},
   "source": [
    "## Prepare input h5ad file for SCARP "
   ]
  },
  {
   "cell_type": "code",
   "execution_count": 2,
   "id": "ea918c99",
   "metadata": {
    "ExecuteTime": {
     "end_time": "2022-09-03T08:15:08.923119Z",
     "start_time": "2022-09-03T08:13:58.239431Z"
    }
   },
   "outputs": [],
   "source": [
    "root_file = './Raw data/GSE126074_AdBrainCortex_atac/GSE126074_AdBrainCortex_SNAREseq_chromatin.'\n",
    "barcodes = pd.read_table(root_file+'barcodes.tsv', header=None)\n",
    "peaks = pd.read_table(root_file+'peaks.tsv', header=None)\n",
    "matrix = sc.read(root_file+'counts.mtx', header=None)"
   ]
  },
  {
   "cell_type": "code",
   "execution_count": 3,
   "id": "ca679bf8",
   "metadata": {
    "ExecuteTime": {
     "end_time": "2022-09-03T08:15:09.399125Z",
     "start_time": "2022-09-03T08:15:08.926120Z"
    }
   },
   "outputs": [],
   "source": [
    "data = sc.AnnData(matrix.X.T)\n",
    "data.var = pd.DataFrame(index=peaks[0].to_list())\n",
    "data.obs = pd.DataFrame(index=barcodes[0].to_list())"
   ]
  },
  {
   "cell_type": "code",
   "execution_count": 4,
   "id": "89b86259",
   "metadata": {
    "ExecuteTime": {
     "end_time": "2022-09-03T08:15:09.418139Z",
     "start_time": "2022-09-03T08:15:09.401126Z"
    }
   },
   "outputs": [],
   "source": [
    "filtered_cells = pd.read_csv('./Processed data/SNARE_Celltype.csv', index_col=0)"
   ]
  },
  {
   "cell_type": "code",
   "execution_count": 5,
   "id": "c3164986",
   "metadata": {
    "ExecuteTime": {
     "end_time": "2022-09-03T08:16:45.905679Z",
     "start_time": "2022-09-03T08:15:09.420139Z"
    }
   },
   "outputs": [],
   "source": [
    "data = filter_cells(data, filtered_cells.index)\n",
    "sc.pp.filter_cells(data, 1)\n",
    "sc.pp.filter_genes(data, 1)"
   ]
  },
  {
   "cell_type": "code",
   "execution_count": 6,
   "id": "b7524f45",
   "metadata": {
    "ExecuteTime": {
     "end_time": "2022-09-03T08:16:46.247684Z",
     "start_time": "2022-09-03T08:16:45.907680Z"
    }
   },
   "outputs": [],
   "source": [
    "data.write('./Processed Data/AdBrainCortex.h5ad')"
   ]
  },
  {
   "cell_type": "markdown",
   "id": "e4edd5b6",
   "metadata": {},
   "source": [
    "## Run SCARP to obtain cell embedding for better clustering cells"
   ]
  },
  {
   "cell_type": "code",
   "execution_count": 7,
   "id": "4410494b",
   "metadata": {
    "ExecuteTime": {
     "end_time": "2022-09-03T08:16:46.253684Z",
     "start_time": "2022-09-03T08:16:46.249684Z"
    }
   },
   "outputs": [],
   "source": [
    "random_state = 1\n",
    "beta = 5000\n",
    "m = 1.5\n",
    "merge_thre = 3000"
   ]
  },
  {
   "cell_type": "code",
   "execution_count": 8,
   "id": "352dd608",
   "metadata": {
    "ExecuteTime": {
     "end_time": "2022-09-03T08:16:46.720692Z",
     "start_time": "2022-09-03T08:16:46.255684Z"
    }
   },
   "outputs": [
    {
     "name": "stdout",
     "output_type": "stream",
     "text": [
      "\n",
      "=========== Data information: AdBrainCortex ===========\n",
      "Number of Peaks: 243838\n",
      "Number of Cells: 8055\n"
     ]
    }
   ],
   "source": [
    "data_name = 'AdBrainCortex'\n",
    "print('\\n=========== Data information: %s ===========' % data_name)\n",
    "data = sc.read_h5ad('./Processed Data/' + data_name + '.h5ad')\n",
    "\n",
    "Cells = data.obs.index\n",
    "Cells_num, Peaks_num = data.X.shape\n",
    "N = Cells_num + Peaks_num\n",
    "print('Number of Peaks:', Peaks_num)\n",
    "print('Number of Cells:', Cells_num)"
   ]
  },
  {
   "cell_type": "code",
   "execution_count": 9,
   "id": "b7c1d827",
   "metadata": {
    "ExecuteTime": {
     "end_time": "2022-09-03T09:45:03.884035Z",
     "start_time": "2022-09-03T08:16:46.725689Z"
    }
   },
   "outputs": [
    {
     "name": "stdout",
     "output_type": "stream",
     "text": [
      "\n",
      "%%%%%%%%%%%%%%%%%%%%%%%% Diffusion Started (without parallel computing)%%%%%%%%%%%%%%%%%%%%%%%%%%\n",
      "       ====================== Chr1: 18296 Peaks ========================\n",
      "       ====================== Chr2: 19041 Peaks ========================\n",
      "       ====================== Chr3: 13266 Peaks ========================\n",
      "       ====================== Chr4: 15137 Peaks ========================\n",
      "       ====================== Chr5: 15502 Peaks ========================\n",
      "       ====================== Chr6: 14036 Peaks ========================\n",
      "       ====================== Chr7: 12981 Peaks ========================\n",
      "       ====================== Chr8: 12654 Peaks ========================\n",
      "       ====================== Chr9: 13661 Peaks ========================\n",
      "       ====================== Chr10: 12616 Peaks ========================\n",
      "       ====================== Chr11: 14463 Peaks ========================\n",
      "       ====================== Chr12: 11049 Peaks ========================\n",
      "       ====================== Chr13: 11270 Peaks ========================\n",
      "       ====================== Chr14: 10424 Peaks ========================\n",
      "       ====================== Chr15: 10722 Peaks ========================\n",
      "       ====================== Chr16: 9244 Peaks ========================\n",
      "       ====================== Chr17: 8997 Peaks ========================\n",
      "       ====================== Chr18: 8867 Peaks ========================\n",
      "       ====================== Chr19: 6337 Peaks ========================\n",
      "       ====================== Chr23~24: 5275 Peaks ========================\n",
      "%%%%%%%%%%%%%%%%%%%%%%%%%%% Diffusion Finished %%%%%%%%%%%%%%%%%%%%%%%%%%%%%\n",
      "\n",
      "Running time: 5113.305384159088s\n",
      "\n",
      "Matrix Splicing...........\n",
      "Splicing time: 151.18470191955566s\n"
     ]
    }
   ],
   "source": [
    "t, diffusion_mat = SCARP(data=data,\n",
    "                         m=m,\n",
    "                         merge_thre=merge_thre,\n",
    "                         beta=beta,\n",
    "                         peak_loc=True)"
   ]
  },
  {
   "cell_type": "code",
   "execution_count": 10,
   "id": "0609c94e",
   "metadata": {
    "ExecuteTime": {
     "end_time": "2022-09-03T10:58:43.208681Z",
     "start_time": "2022-09-03T09:45:03.887036Z"
    }
   },
   "outputs": [
    {
     "data": {
      "image/png": "[encoded data removed]",
      "text/plain": [
       "<Figure size 432x288 with 1 Axes>"
      ]
     },
     "metadata": {
      "needs_background": "light"
     },
     "output_type": "display_data"
    }
   ],
   "source": [
    "k = std_plot(data=diffusion_mat,\n",
    "             title=data_name,\n",
    "             max_k=100,\n",
    "             plot_std=True,\n",
    "             save_file='./Results/Kept component of ' + data_name + '.svg')"
   ]
  },
  {
   "cell_type": "code",
   "execution_count": 11,
   "id": "0854e551",
   "metadata": {
    "ExecuteTime": {
     "end_time": "2022-09-03T11:16:24.329368Z",
     "start_time": "2022-09-03T10:58:43.210681Z"
    }
   },
   "outputs": [],
   "source": [
    "cell_mat = SCARP_cell_embedding(diffusion_mat=diffusion_mat,\n",
    "                                kept_comp=k)\n",
    "Cells_df = pd.DataFrame(cell_mat,\n",
    "                        index=Cells,\n",
    "                        columns=['Peaks' + str(i + 1) for i in range(cell_mat.shape[1])])\n",
    "Cells_df.to_csv('./Results/SCARP_ATAC_Cells_df.txt')"
   ]
  },
  {
   "cell_type": "code",
   "execution_count": null,
   "id": "b268cf38",
   "metadata": {},
   "outputs": [],
   "source": []
  }
 ],
 "metadata": {
  "kernelspec": {
   "display_name": "scarp1",
   "language": "python",
   "name": "scarp1"
  },
  "language_info": {
   "codemirror_mode": {
    "name": "ipython",
    "version": 3
   },
   "file_extension": ".py",
   "mimetype": "text/x-python",
   "name": "python",
   "nbconvert_exporter": "python",
   "pygments_lexer": "ipython3",
   "version": "3.8.13"
  },
  "toc": {
   "base_numbering": 1,
   "nav_menu": {},
   "number_sections": true,
   "sideBar": true,
   "skip_h1_title": false,
   "title_cell": "Table of Contents",
   "title_sidebar": "Contents",
   "toc_cell": false,
   "toc_position": {},
   "toc_section_display": true,
   "toc_window_display": false
  },
  "varInspector": {
   "cols": {
    "lenName": 16,
    "lenType": 16,
    "lenVar": 40
   },
   "kernels_config": {
    "python": {
     "delete_cmd_postfix": "",
     "delete_cmd_prefix": "del ",
     "library": "var_list.py",
     "varRefreshCmd": "print(var_dic_list())"
    },
    "r": {
     "delete_cmd_postfix": ") ",
     "delete_cmd_prefix": "rm(",
     "library": "var_list.r",
     "varRefreshCmd": "cat(var_dic_list()) "
    }
   },
   "types_to_exclude": [
    "module",
    "function",
    "builtin_function_or_method",
    "instance",
    "_Feature"
   ],
   "window_display": false
  }
 },
 "nbformat": 4,
 "nbformat_minor": 5
}
